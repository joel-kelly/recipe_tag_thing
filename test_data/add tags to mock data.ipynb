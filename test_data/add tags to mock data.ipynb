{
 "cells": [
  {
   "cell_type": "code",
   "execution_count": 14,
   "metadata": {},
   "outputs": [],
   "source": [
    "import pandas as pd\n",
    "import random"
   ]
  },
  {
   "cell_type": "code",
   "execution_count": 18,
   "metadata": {},
   "outputs": [],
   "source": [
    "mock_data = pd.read_csv(\"MOCK_DATA.csv\")\n",
    "tags = pd.read_csv(\"tags.csv\",header=None)\n",
    "tags.columns = ['tags']\n",
    "tags = tags.tags.to_list()\n",
    "\n",
    "\n",
    "tag_col = []\n",
    "for i in range(len(mock_data)):\n",
    "    num_of_tags = random.randrange(1,10,1)\n",
    "\n",
    "    these_tags = random.sample(tags,num_of_tags)\n",
    "    tag_str = \", \".join(these_tags)\n",
    "    tag_col.append(tag_str)\n",
    "\n",
    "mock_data['tags']=tag_col\n",
    "mock_data.to_csv(\"mock_data_w_tags.csv\")"
   ]
  },
  {
   "cell_type": "code",
   "execution_count": null,
   "metadata": {},
   "outputs": [],
   "source": []
  }
 ],
 "metadata": {
  "interpreter": {
   "hash": "8fb7845b440339090ab34949601189691adb303ff8ab98094cde38aecdb17dbb"
  },
  "kernelspec": {
   "display_name": "Python 3.9.12 ('acid')",
   "language": "python",
   "name": "python3"
  },
  "language_info": {
   "codemirror_mode": {
    "name": "ipython",
    "version": 3
   },
   "file_extension": ".py",
   "mimetype": "text/x-python",
   "name": "python",
   "nbconvert_exporter": "python",
   "pygments_lexer": "ipython3",
   "version": "3.9.12"
  },
  "orig_nbformat": 4
 },
 "nbformat": 4,
 "nbformat_minor": 2
}
